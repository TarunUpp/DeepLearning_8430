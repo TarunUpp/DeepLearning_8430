{
 "cells": [
  {
   "cell_type": "code",
   "execution_count": 107,
   "id": "87816bdf",
   "metadata": {},
   "outputs": [],
   "source": [
    "import torch\n",
    "import torch.nn as nn  \n",
    "import torch.nn.functional as F\n",
    "\n",
    "import numpy as np\n",
    "import matplotlib.pyplot as plt\n",
    "%matplotlib inline"
   ]
  },
  {
   "cell_type": "code",
   "execution_count": 108,
   "id": "1ddadb08",
   "metadata": {},
   "outputs": [],
   "source": [
    "X = torch.linspace(-1,1,200).reshape(-1,1)"
   ]
  },
  {
   "cell_type": "code",
   "execution_count": 109,
   "id": "dfb3383c",
   "metadata": {},
   "outputs": [],
   "source": [
    "y=(np.sin(5*(np.pi*X)))/((5*(np.pi*X)))"
   ]
  },
  {
   "cell_type": "code",
   "execution_count": 110,
   "id": "14a37b64",
   "metadata": {},
   "outputs": [
    {
     "data": {
      "image/png": "[encoded data removed]",
      "text/plain": [
       "<Figure size 432x288 with 1 Axes>"
      ]
     },
     "metadata": {
      "needs_background": "light"
     },
     "output_type": "display_data"
    }
   ],
   "source": [
    "plt.plot(X.numpy(), y.numpy())\n",
    "\n",
    "plt.ylabel('y')\n",
    "plt.xlabel('x');"
   ]
  },
  {
   "cell_type": "code",
   "execution_count": null,
   "id": "c93ec0d1",
   "metadata": {},
   "outputs": [],
   "source": []
  },
  {
   "cell_type": "code",
   "execution_count": null,
   "id": "40364d8e",
   "metadata": {},
   "outputs": [],
   "source": []
  },
  {
   "cell_type": "code",
   "execution_count": 111,
   "id": "6497dbb7",
   "metadata": {},
   "outputs": [],
   "source": [
    "##(Model 0)##"
   ]
  },
  {
   "cell_type": "code",
   "execution_count": 112,
   "id": "58441b73",
   "metadata": {},
   "outputs": [],
   "source": [
    "class Model0(nn.Module):\n",
    "    def __init__(self, in_features=1, h2=5, h3=10,h4=10,h5=10,h6=10,h7=10,h8=5, out_features=1):\n",
    "        super().__init__()\n",
    "        self.fc1 = nn.Linear(in_features,h2)    # input layer\n",
    "        self.fc2 = nn.Linear(h2, h3)\n",
    "        self.fc3 = nn.Linear(h3, h4)\n",
    "        self.fc4 = nn.Linear(h4, h5)\n",
    "        self.fc5 = nn.Linear(h5, h6)\n",
    "        self.fc6 = nn.Linear(h6, h7)\n",
    "        self.fc7 = nn.Linear(h7, h8)\n",
    "        self.out = nn.Linear(h8, out_features)  # output layer\n",
    "\n",
    "        \n",
    "    def forward(self, x):\n",
    "        x = F.relu(self.fc1(x))\n",
    "        x = F.relu(self.fc2(x))\n",
    "        x = F.relu(self.fc3(x))\n",
    "        x = F.relu(self.fc4(x))\n",
    "        x = F.relu(self.fc5(x))\n",
    "        x = F.relu(self.fc6(x))\n",
    "        x = F.relu(self.fc7(x))\n",
    "        x = self.out(x)\n",
    "        return x"
   ]
  },
  {
   "cell_type": "code",
   "execution_count": 113,
   "id": "d251027e",
   "metadata": {},
   "outputs": [],
   "source": [
    "model_zero = Model0()"
   ]
  },
  {
   "cell_type": "code",
   "execution_count": 114,
   "id": "18d1a2b3",
   "metadata": {},
   "outputs": [],
   "source": [
    "criterion = nn.MSELoss()"
   ]
  },
  {
   "cell_type": "code",
   "execution_count": 115,
   "id": "b12c5a00",
   "metadata": {},
   "outputs": [],
   "source": [
    "\n",
    "optimizer = torch.optim.Adam(model_zero.parameters(), lr=0.001)"
   ]
  },
  {
   "cell_type": "code",
   "execution_count": 116,
   "id": "e2dfdb20",
   "metadata": {},
   "outputs": [],
   "source": [
    "epochs = 2000\n",
    "mod0_losses = []\n",
    "\n",
    "for i in range(epochs):\n",
    "    i+=1\n",
    "    # forward step\n",
    "    y_pred = model_zero.forward(X)\n",
    "    \n",
    "    # compute loss (error)\n",
    "    loss = criterion(y_pred, y)\n",
    "    \n",
    "    # append loss to a list for plotting and analysis\n",
    "    mod0_losses.append(loss)\n",
    "    \n",
    "    # reset gadient at each epoch, because gradients are accumulating\n",
    "    optimizer.zero_grad()\n",
    "    # backprop the loss through the model and compute gradients\n",
    "    loss.backward()\n",
    "    # optimization step to upade weights and biases\n",
    "    optimizer.step()"
   ]
  },
  {
   "cell_type": "code",
   "execution_count": 117,
   "id": "43951f1e",
   "metadata": {},
   "outputs": [],
   "source": [
    "mod0_losses=torch.tensor(mod0_losses)"
   ]
  },
  {
   "cell_type": "code",
   "execution_count": null,
   "id": "2b522e59",
   "metadata": {},
   "outputs": [],
   "source": []
  },
  {
   "cell_type": "code",
   "execution_count": 118,
   "id": "59dcd9c9",
   "metadata": {},
   "outputs": [],
   "source": [
    "##########################################-----HW 1-1(Model 1)---------############################################"
   ]
  },
  {
   "cell_type": "code",
   "execution_count": null,
   "id": "82bbe284",
   "metadata": {},
   "outputs": [],
   "source": []
  },
  {
   "cell_type": "code",
   "execution_count": 119,
   "id": "05d62b51",
   "metadata": {},
   "outputs": [],
   "source": [
    "class Model1(nn.Module):\n",
    "    def __init__(self, in_features=1, h2=10, h3=18,h4=15,h5=4, out_features=1):\n",
    "        super().__init__()\n",
    "        self.fc1 = nn.Linear(in_features,h2)    # input layer\n",
    "        self.fc2 = nn.Linear(h2, h3)\n",
    "        self.fc3 = nn.Linear(h3, h4)\n",
    "        self.fc4 = nn.Linear(h4, h5)\n",
    "        self.out = nn.Linear(h5, out_features)  # output layer\n",
    "        \n",
    "    def forward(self, x):\n",
    "        x = F.relu(self.fc1(x))\n",
    "        x = F.relu(self.fc2(x))\n",
    "        x = F.relu(self.fc3(x))\n",
    "        x = F.relu(self.fc4(x))\n",
    "        x = self.out(x)\n",
    "        return x"
   ]
  },
  {
   "cell_type": "code",
   "execution_count": 120,
   "id": "19d26bf0",
   "metadata": {},
   "outputs": [],
   "source": [
    "model_one=Model1()"
   ]
  },
  {
   "cell_type": "code",
   "execution_count": 121,
   "id": "47b1d9d9",
   "metadata": {},
   "outputs": [
    {
     "data": {
      "text/plain": [
       "Model1(\n",
       "  (fc1): Linear(in_features=1, out_features=10, bias=True)\n",
       "  (fc2): Linear(in_features=10, out_features=18, bias=True)\n",
       "  (fc3): Linear(in_features=18, out_features=15, bias=True)\n",
       "  (fc4): Linear(in_features=15, out_features=4, bias=True)\n",
       "  (out): Linear(in_features=4, out_features=1, bias=True)\n",
       ")"
      ]
     },
     "execution_count": 121,
     "metadata": {},
     "output_type": "execute_result"
    }
   ],
   "source": [
    "\n",
    "model_one"
   ]
  },
  {
   "cell_type": "code",
   "execution_count": 122,
   "id": "48b8574b",
   "metadata": {},
   "outputs": [],
   "source": [
    "criterion = nn.MSELoss()"
   ]
  },
  {
   "cell_type": "code",
   "execution_count": 123,
   "id": "30d63323",
   "metadata": {},
   "outputs": [],
   "source": [
    "optimizer = torch.optim.Adam(model_one.parameters(), lr=0.001)"
   ]
  },
  {
   "cell_type": "code",
   "execution_count": 124,
   "id": "41e53714",
   "metadata": {},
   "outputs": [],
   "source": [
    "epochs = 2000\n",
    "mod1_losses = []\n",
    "\n",
    "for i in range(epochs):\n",
    "    i+=1\n",
    "    # forward step\n",
    "    y_pred_mod1 = model_one.forward(X)\n",
    "    \n",
    "    # compute loss (error)\n",
    "    loss = criterion(y_pred_mod1, y)\n",
    "    \n",
    "    # append loss to a list for plotting and analysis\n",
    "    mod1_losses.append(loss)\n",
    "    \n",
    "    # reset gadient at each epoch, because gradients are accumulating\n",
    "    optimizer.zero_grad()\n",
    "    # backprop the loss through the model and compute gradients\n",
    "    loss.backward()\n",
    "    # optimization step to upade weights and biases\n",
    "    optimizer.step()"
   ]
  },
  {
   "cell_type": "code",
   "execution_count": 125,
   "id": "dddfdaa0",
   "metadata": {},
   "outputs": [],
   "source": [
    "mod1_losses=torch.tensor(mod1_losses)"
   ]
  },
  {
   "cell_type": "code",
   "execution_count": null,
   "id": "ef7ba43d",
   "metadata": {},
   "outputs": [],
   "source": []
  },
  {
   "cell_type": "code",
   "execution_count": null,
   "id": "cb704a58",
   "metadata": {},
   "outputs": [],
   "source": []
  },
  {
   "cell_type": "code",
   "execution_count": 126,
   "id": "4bda390a",
   "metadata": {},
   "outputs": [],
   "source": [
    "##########################################-----HW 1-1(Model 2)---------############################################"
   ]
  },
  {
   "cell_type": "code",
   "execution_count": null,
   "id": "3f05dc21",
   "metadata": {},
   "outputs": [],
   "source": []
  },
  {
   "cell_type": "code",
   "execution_count": 127,
   "id": "0ed90415",
   "metadata": {},
   "outputs": [],
   "source": [
    "class Model2(nn.Module):\n",
    "    def __init__(self, in_features=1, h2=190, out_features=1):\n",
    "        super().__init__()\n",
    "        self.fc1 = nn.Linear(in_features,h2)    # input layer\n",
    "        self.out = nn.Linear(h2, out_features)  # output layer\n",
    "        \n",
    "    def forward(self, x):\n",
    "        x = F.relu(self.fc1(x))\n",
    "        x = self.out(x)\n",
    "        return x"
   ]
  },
  {
   "cell_type": "code",
   "execution_count": 128,
   "id": "84ea8a82",
   "metadata": {},
   "outputs": [],
   "source": [
    "model_two=Model2()"
   ]
  },
  {
   "cell_type": "code",
   "execution_count": 129,
   "id": "ae473fee",
   "metadata": {},
   "outputs": [],
   "source": [
    "criterion = nn.MSELoss()"
   ]
  },
  {
   "cell_type": "code",
   "execution_count": 130,
   "id": "169bde69",
   "metadata": {},
   "outputs": [],
   "source": [
    "optimizer = torch.optim.Adam(model_two.parameters(), lr=0.001)"
   ]
  },
  {
   "cell_type": "code",
   "execution_count": 131,
   "id": "c51cf51a",
   "metadata": {},
   "outputs": [],
   "source": [
    "epochs = 2000\n",
    "mod2_losses = []\n",
    "\n",
    "for i in range(epochs):\n",
    "    i+=1\n",
    "    # forward step\n",
    "    y_pred_mod2 = model_two.forward(X)\n",
    "    \n",
    "    # compute loss (error)\n",
    "    loss = criterion(y_pred_mod2, y)\n",
    "    \n",
    "    # append loss to a list for plotting and analysis\n",
    "    mod2_losses.append(loss)\n",
    "    \n",
    "    # reset gadient at each epoch, because gradients are accumulating\n",
    "    optimizer.zero_grad()\n",
    "    # backprop the loss through the model and compute gradients\n",
    "    loss.backward()\n",
    "    # optimization step to upade weights and biases\n",
    "    optimizer.step()"
   ]
  },
  {
   "cell_type": "code",
   "execution_count": 132,
   "id": "548560d4",
   "metadata": {},
   "outputs": [],
   "source": [
    "mod2_losses=torch.tensor(mod2_losses)"
   ]
  },
  {
   "cell_type": "code",
   "execution_count": 133,
   "id": "006a024f",
   "metadata": {},
   "outputs": [
    {
     "data": {
      "image/png": "[encoded data removed]",
      "text/plain": [
       "<Figure size 432x288 with 1 Axes>"
      ]
     },
     "metadata": {
      "needs_background": "light"
     },
     "output_type": "display_data"
    }
   ],
   "source": [
    "plt.plot(range(epochs),mod0_losses.numpy(),'r')\n",
    "plt.plot(range(epochs),mod1_losses.numpy(),'g')\n",
    "plt.plot(range(epochs),mod2_losses.numpy(),'b')\n",
    "plt.legend(['model0','model1','model2'])\n",
    "plt.ylabel('Loss')\n",
    "plt.xlabel('Epochs')\n",
    "plt.show()"
   ]
  },
  {
   "cell_type": "code",
   "execution_count": 134,
   "id": "5ad815f2",
   "metadata": {},
   "outputs": [
    {
     "data": {
      "image/png": "[encoded data removed]",
      "text/plain": [
       "<Figure size 432x288 with 1 Axes>"
      ]
     },
     "metadata": {
      "needs_background": "light"
     },
     "output_type": "display_data"
    }
   ],
   "source": [
    "#Plotting all Models\n",
    "plt.plot(X.numpy(), y_pred.detach().numpy(),'r')\n",
    "plt.plot(X.numpy(), y_pred_mod1.detach().numpy(),'g')\n",
    "plt.plot(X.numpy(), y_pred_mod2.detach().numpy(),'b')\n",
    "plt.legend(['model0','model1','model2'])\n",
    "\n",
    "\n",
    "plt.ylabel('y')\n",
    "plt.xlabel('x');"
   ]
  },
  {
   "cell_type": "code",
   "execution_count": null,
   "id": "7c91816f",
   "metadata": {},
   "outputs": [],
   "source": []
  },
  {
   "cell_type": "code",
   "execution_count": null,
   "id": "130f8443",
   "metadata": {},
   "outputs": [],
   "source": []
  },
  {
   "cell_type": "code",
   "execution_count": null,
   "id": "bc308618",
   "metadata": {},
   "outputs": [],
   "source": []
  },
  {
   "cell_type": "code",
   "execution_count": null,
   "id": "e25b616c",
   "metadata": {},
   "outputs": [],
   "source": []
  },
  {
   "cell_type": "code",
   "execution_count": 135,
   "id": "b2c2d65f",
   "metadata": {},
   "outputs": [],
   "source": [
    "##########################################-----HW 1-1(Model 0) Function-2 ---------############################################"
   ]
  },
  {
   "cell_type": "code",
   "execution_count": null,
   "id": "56540f0c",
   "metadata": {},
   "outputs": [],
   "source": []
  },
  {
   "cell_type": "code",
   "execution_count": 136,
   "id": "8f63c77b",
   "metadata": {},
   "outputs": [],
   "source": [
    "X1 = torch.linspace(-1,1,150).reshape(-1,1)"
   ]
  },
  {
   "cell_type": "code",
   "execution_count": 137,
   "id": "a0df275e",
   "metadata": {},
   "outputs": [],
   "source": [
    "y1=np.sign(np.sin(5*np.pi*X1))"
   ]
  },
  {
   "cell_type": "code",
   "execution_count": 138,
   "id": "396be58f",
   "metadata": {},
   "outputs": [
    {
     "data": {
      "image/png": "[encoded data removed]",
      "text/plain": [
       "<Figure size 432x288 with 1 Axes>"
      ]
     },
     "metadata": {
      "needs_background": "light"
     },
     "output_type": "display_data"
    }
   ],
   "source": [
    "plt.plot(X1.numpy(), y1.numpy())\n",
    "\n",
    "plt.ylabel('y')\n",
    "plt.xlabel('x');"
   ]
  },
  {
   "cell_type": "code",
   "execution_count": 139,
   "id": "90767036",
   "metadata": {},
   "outputs": [],
   "source": [
    "class Modelzf2(nn.Module):\n",
    "    def __init__(self, in_features=1, h2=5, h3=10,h4=10,h5=10,h6=10,h7=10,h8=5, out_features=1):\n",
    "        super().__init__()\n",
    "        self.fc1 = nn.Linear(in_features,h2)    # input layer\n",
    "        self.fc2 = nn.Linear(h2, h3)\n",
    "        self.fc3 = nn.Linear(h3, h4)\n",
    "        self.fc4 = nn.Linear(h4, h5)\n",
    "        self.fc5 = nn.Linear(h5, h6)\n",
    "        self.fc6 = nn.Linear(h6, h7)\n",
    "        self.fc7 = nn.Linear(h7, h8)\n",
    "        self.out = nn.Linear(h8, out_features)  # output layer\n",
    "        \n",
    "    def forward(self, x):\n",
    "        x = F.relu(self.fc1(x))\n",
    "        x = F.relu(self.fc2(x))\n",
    "        x = F.relu(self.fc3(x))\n",
    "        x = F.relu(self.fc4(x))\n",
    "        x = F.relu(self.fc5(x))\n",
    "        x = F.relu(self.fc6(x))\n",
    "        x = F.relu(self.fc7(x))\n",
    "        x = self.out(x)\n",
    "        return x"
   ]
  },
  {
   "cell_type": "code",
   "execution_count": 140,
   "id": "36482943",
   "metadata": {},
   "outputs": [],
   "source": [
    "model_zero_f2=Modelzf2()"
   ]
  },
  {
   "cell_type": "code",
   "execution_count": 141,
   "id": "3ebe693e",
   "metadata": {},
   "outputs": [
    {
     "name": "stdout",
     "output_type": "stream",
     "text": [
      "No of parameters in model = 571\n"
     ]
    }
   ],
   "source": [
    "sum=0\n",
    "for param in model_zero_f2.parameters():\n",
    "    sum=sum+param.numel()\n",
    "    \n",
    "print(\"No of parameters in model =\",sum)"
   ]
  },
  {
   "cell_type": "code",
   "execution_count": 142,
   "id": "750fe682",
   "metadata": {},
   "outputs": [],
   "source": [
    "criterion = nn.MSELoss()"
   ]
  },
  {
   "cell_type": "code",
   "execution_count": 143,
   "id": "83621a20",
   "metadata": {},
   "outputs": [],
   "source": [
    "optimizer = torch.optim.Adam(model_zero_f2.parameters(), lr=0.001)"
   ]
  },
  {
   "cell_type": "code",
   "execution_count": 144,
   "id": "49c7ef85",
   "metadata": {},
   "outputs": [],
   "source": [
    "epochs = 2000\n",
    "mod0_losses_f2 = []\n",
    "\n",
    "for i in range(epochs):\n",
    "    i+=1\n",
    "    # forward step\n",
    "    y_pred_mod0_f2 = model_zero_f2.forward(X1)\n",
    "    \n",
    "    # compute loss (error)\n",
    "    loss = criterion(y_pred_mod0_f2, y1)\n",
    "    \n",
    "    # append loss to a list for plotting and analysis\n",
    "    mod0_losses_f2.append(loss)\n",
    "    \n",
    "    # reset gadient at each epoch, because gradients are accumulating\n",
    "    optimizer.zero_grad()\n",
    "    # backprop the loss through the model and compute gradients\n",
    "    loss.backward()\n",
    "    # optimization step to upate weights and biases\n",
    "    optimizer.step()"
   ]
  },
  {
   "cell_type": "code",
   "execution_count": 145,
   "id": "40ee264b",
   "metadata": {},
   "outputs": [],
   "source": [
    "mod0_losses_f2=torch.tensor(mod0_losses_f2)"
   ]
  },
  {
   "cell_type": "code",
   "execution_count": null,
   "id": "a8d62a34",
   "metadata": {},
   "outputs": [],
   "source": []
  },
  {
   "cell_type": "code",
   "execution_count": null,
   "id": "c2b3cc60",
   "metadata": {},
   "outputs": [],
   "source": []
  },
  {
   "cell_type": "code",
   "execution_count": 146,
   "id": "c1454578",
   "metadata": {},
   "outputs": [],
   "source": [
    "##########################################-----HW 1-1(Model 1) Function-2 ---------############################################"
   ]
  },
  {
   "cell_type": "code",
   "execution_count": null,
   "id": "8fe15ebb",
   "metadata": {},
   "outputs": [],
   "source": []
  },
  {
   "cell_type": "code",
   "execution_count": 147,
   "id": "31727323",
   "metadata": {},
   "outputs": [],
   "source": [
    "class Modelof2(nn.Module):\n",
    "    def __init__(self, in_features=1, h2=10, h3=18,h4=15,h5=4, out_features=1):\n",
    "        super().__init__()\n",
    "        self.fc1 = nn.Linear(in_features,h2)    # input layer\n",
    "        self.fc2 = nn.Linear(h2, h3)\n",
    "        self.fc3 = nn.Linear(h3, h4)\n",
    "        self.fc4 = nn.Linear(h4, h5)\n",
    "        self.out = nn.Linear(h5, out_features)  # output layer\n",
    "        \n",
    "    def forward(self, x):\n",
    "        x = F.relu(self.fc1(x))\n",
    "        x = F.relu(self.fc2(x))\n",
    "        x = F.relu(self.fc3(x))\n",
    "        x = F.relu(self.fc4(x))\n",
    "        x = self.out(x)\n",
    "        return x"
   ]
  },
  {
   "cell_type": "code",
   "execution_count": 148,
   "id": "12d8eb24",
   "metadata": {},
   "outputs": [],
   "source": [
    "model_one_f2 = Modelof2()"
   ]
  },
  {
   "cell_type": "code",
   "execution_count": 149,
   "id": "db9fe9cd",
   "metadata": {},
   "outputs": [
    {
     "name": "stdout",
     "output_type": "stream",
     "text": [
      "parameters = 572\n"
     ]
    }
   ],
   "source": [
    "sum=0\n",
    "for param in model_one_f2.parameters():\n",
    "    sum=sum+param.numel()\n",
    "    \n",
    "print(\"parameters =\",sum)"
   ]
  },
  {
   "cell_type": "code",
   "execution_count": 150,
   "id": "184ada22",
   "metadata": {},
   "outputs": [],
   "source": [
    "criterion = nn.MSELoss()"
   ]
  },
  {
   "cell_type": "code",
   "execution_count": 151,
   "id": "c4aa207a",
   "metadata": {},
   "outputs": [],
   "source": [
    "optimizer = torch.optim.Adam(model_one_f2.parameters(), lr=0.001)"
   ]
  },
  {
   "cell_type": "code",
   "execution_count": 152,
   "id": "794db942",
   "metadata": {},
   "outputs": [],
   "source": [
    "epochs = 2000\n",
    "mod1_losses_f2 = []\n",
    "\n",
    "for i in range(epochs):\n",
    "    i+=1\n",
    "    # forward step\n",
    "    y_pred_mod1_f2 = model_one_f2.forward(X1)\n",
    "    \n",
    "    # compute loss (error)\n",
    "    loss = criterion(y_pred_mod1_f2, y1)\n",
    "    \n",
    "    # append loss to a list for plotting and analysis\n",
    "    mod1_losses_f2.append(loss)\n",
    "    \n",
    "    # reset gadient at each epoch, because gradients are accumulating\n",
    "    optimizer.zero_grad()\n",
    "    # backprop the loss through the model and compute gradients\n",
    "    loss.backward()\n",
    "    # optimization step to upate weights and biases\n",
    "    optimizer.step()"
   ]
  },
  {
   "cell_type": "code",
   "execution_count": 153,
   "id": "27b306ab",
   "metadata": {},
   "outputs": [],
   "source": [
    "mod1_losses_f2=torch.tensor(mod1_losses_f2)"
   ]
  },
  {
   "cell_type": "code",
   "execution_count": null,
   "id": "ce942b71",
   "metadata": {},
   "outputs": [],
   "source": []
  },
  {
   "cell_type": "code",
   "execution_count": 154,
   "id": "610d56f9",
   "metadata": {},
   "outputs": [],
   "source": [
    "##########################################-----HW 1-1(Model 2) Function-2 ---------############################################"
   ]
  },
  {
   "cell_type": "code",
   "execution_count": null,
   "id": "d83aac4b",
   "metadata": {},
   "outputs": [],
   "source": []
  },
  {
   "cell_type": "code",
   "execution_count": 155,
   "id": "ed0c6767",
   "metadata": {},
   "outputs": [],
   "source": [
    "class Model2f2(nn.Module):\n",
    "    def __init__(self, in_features=1, h2=190, out_features=1):\n",
    "        super().__init__()\n",
    "        self.fc1 = nn.Linear(in_features,h2)   \n",
    "        self.out = nn.Linear(h2, out_features) \n",
    "        \n",
    "    def forward(self, x):\n",
    "        x = F.relu(self.fc1(x))\n",
    "        x = self.out(x)\n",
    "        return x"
   ]
  },
  {
   "cell_type": "code",
   "execution_count": 156,
   "id": "8c137ebf",
   "metadata": {},
   "outputs": [],
   "source": [
    "model_two_f2 = Model2f2()"
   ]
  },
  {
   "cell_type": "code",
   "execution_count": 157,
   "id": "6f7991d7",
   "metadata": {},
   "outputs": [
    {
     "data": {
      "text/plain": [
       "Model2f2(\n",
       "  (fc1): Linear(in_features=1, out_features=190, bias=True)\n",
       "  (out): Linear(in_features=190, out_features=1, bias=True)\n",
       ")"
      ]
     },
     "execution_count": 157,
     "metadata": {},
     "output_type": "execute_result"
    }
   ],
   "source": [
    "model_two_f2"
   ]
  },
  {
   "cell_type": "code",
   "execution_count": 158,
   "id": "b5722ebf",
   "metadata": {},
   "outputs": [
    {
     "name": "stdout",
     "output_type": "stream",
     "text": [
      "parameters = 571\n"
     ]
    }
   ],
   "source": [
    "sum=0\n",
    "for param in model_two_f2.parameters():\n",
    "    sum=sum+param.numel()\n",
    "    \n",
    "print(\"parameters =\",sum)"
   ]
  },
  {
   "cell_type": "code",
   "execution_count": 159,
   "id": "88f64e14",
   "metadata": {},
   "outputs": [],
   "source": [
    "criterion = nn.MSELoss()"
   ]
  },
  {
   "cell_type": "code",
   "execution_count": 160,
   "id": "5ae5eec4",
   "metadata": {},
   "outputs": [],
   "source": [
    "optimizer = torch.optim.Adam(model_two_f2.parameters(), lr=0.001)"
   ]
  },
  {
   "cell_type": "code",
   "execution_count": 161,
   "id": "8b333968",
   "metadata": {},
   "outputs": [],
   "source": [
    "epochs = 2000\n",
    "mod2_losses_f2 = []\n",
    "\n",
    "for i in range(epochs):\n",
    "    i+=1\n",
    "    # forward step\n",
    "    y_pred_mod2_f2 = model_two_f2.forward(X1)\n",
    "    \n",
    "    # compute loss (error)\n",
    "    loss = criterion(y_pred_mod2_f2, y1)\n",
    "    \n",
    "    # append loss to a list for plotting and analysis\n",
    "    mod2_losses_f2.append(loss)\n",
    "    \n",
    "    # reset gadient at each epoch, because gradients are accumulating\n",
    "    optimizer.zero_grad()\n",
    "    # backprop the loss through the model and compute gradients\n",
    "    loss.backward()\n",
    "    # optimization step to upate weights and biases\n",
    "    optimizer.step()"
   ]
  },
  {
   "cell_type": "code",
   "execution_count": 162,
   "id": "f4800f5f",
   "metadata": {},
   "outputs": [],
   "source": [
    "mod2_losses_f2=torch.tensor(mod2_losses_f2)"
   ]
  },
  {
   "cell_type": "code",
   "execution_count": 163,
   "id": "fb2c1279",
   "metadata": {},
   "outputs": [
    {
     "data": {
      "image/png": "[encoded data removed]",
      "text/plain": [
       "<Figure size 432x288 with 1 Axes>"
      ]
     },
     "metadata": {
      "needs_background": "light"
     },
     "output_type": "display_data"
    }
   ],
   "source": [
    "#x vs y_pred for all models using F2\n",
    "plt.plot(range(epochs),mod0_losses_f2.numpy(),'r')\n",
    "plt.plot(range(epochs),mod1_losses_f2.numpy(),'g')\n",
    "plt.plot(range(epochs),mod2_losses_f2.numpy(),'b')\n",
    "plt.legend(['model0','model1','model2'])\n",
    "plt.ylabel('Loss')\n",
    "plt.xlabel('Epochs')\n",
    "plt.show()"
   ]
  },
  {
   "cell_type": "code",
   "execution_count": 164,
   "id": "06ac5a61",
   "metadata": {},
   "outputs": [
    {
     "data": {
      "image/png": "[encoded data removed]",
      "text/plain": [
       "<Figure size 432x288 with 1 Axes>"
      ]
     },
     "metadata": {
      "needs_background": "light"
     },
     "output_type": "display_data"
    }
   ],
   "source": [
    "#Plotting all Models predicted values\n",
    "plt.plot(X1.numpy(), y_pred_mod0_f2.detach().numpy(),'r')\n",
    "plt.plot(X1.numpy(), y_pred_mod1_f2.detach().numpy(),'y')\n",
    "plt.plot(X1.numpy(), y_pred_mod2_f2.detach().numpy(),'b')\n",
    "plt.legend(['model0','model1','model2'])\n",
    "\n",
    "\n",
    "plt.ylabel('y')\n",
    "plt.xlabel('x');"
   ]
  },
  {
   "cell_type": "code",
   "execution_count": null,
   "id": "beeaaa7f",
   "metadata": {},
   "outputs": [],
   "source": []
  },
  {
   "cell_type": "code",
   "execution_count": null,
   "id": "21b7dfe5",
   "metadata": {},
   "outputs": [],
   "source": []
  }
 ],
 "metadata": {
  "kernelspec": {
   "display_name": "Python 3 (ipykernel)",
   "language": "python",
   "name": "python3"
  },
  "language_info": {
   "codemirror_mode": {
    "name": "ipython",
    "version": 3
   },
   "file_extension": ".py",
   "mimetype": "text/x-python",
   "name": "python",
   "nbconvert_exporter": "python",
   "pygments_lexer": "ipython3",
   "version": "3.9.7"
  }
 },
 "nbformat": 4,
 "nbformat_minor": 5
}
